{
 "cells": [
  {
   "cell_type": "markdown",
   "id": "c75b8b65-a515-453f-927b-4320cbd5b554",
   "metadata": {},
   "source": [
    "## 4.2: Jupyter Fundamentals & Python Data Types"
   ]
  },
  {
   "cell_type": "markdown",
   "id": "25e111c5-0748-47c8-a2dc-f92ae9344dec",
   "metadata": {},
   "source": [
    "### Contents\n",
    "### 1. Importing libraries\n",
    "### 2. data types"
   ]
  },
  {
   "cell_type": "code",
   "execution_count": null,
   "id": "a8c809aa-fcda-4fdf-9698-a514d5da34ed",
   "metadata": {},
   "outputs": [],
   "source": []
  },
  {
   "cell_type": "markdown",
   "id": "a91b5829-dd92-416c-ae03-ea5ebd0fbbde",
   "metadata": {},
   "source": [
    "#### 1. Importing libraries"
   ]
  },
  {
   "cell_type": "code",
   "execution_count": 1,
   "id": "b5d40eee-8225-4ffc-a7b9-2e77e78a7324",
   "metadata": {},
   "outputs": [],
   "source": [
    "# impport libraries\n",
    "import pandas as pd\n",
    "import numpy as np\n",
    "import os"
   ]
  },
  {
   "cell_type": "markdown",
   "id": "eef4dd7b-e90b-462c-8b12-4adb8f3b4794",
   "metadata": {},
   "source": [
    "#### 2. data types"
   ]
  },
  {
   "cell_type": "code",
   "execution_count": 2,
   "id": "d8fe14a6-9727-4e56-9bac-ea03b59c6c1a",
   "metadata": {},
   "outputs": [
    {
     "data": {
      "text/plain": [
       "100"
      ]
     },
     "execution_count": 2,
     "metadata": {},
     "output_type": "execute_result"
    }
   ],
   "source": [
    "# Code 3 different ways of reaching a result of 100 by adding or subtracting numeric variables\n",
    "# 1 by adding\n",
    "x = 80\n",
    "y = 20\n",
    "x + y"
   ]
  },
  {
   "cell_type": "code",
   "execution_count": 3,
   "id": "daeda484-21e3-4a41-bdfa-ae4411df7c0d",
   "metadata": {},
   "outputs": [
    {
     "data": {
      "text/plain": [
       "100"
      ]
     },
     "execution_count": 3,
     "metadata": {},
     "output_type": "execute_result"
    }
   ],
   "source": [
    "# 2 by subtracting\n",
    "a = 150\n",
    "b = 50\n",
    "a - b"
   ]
  },
  {
   "cell_type": "code",
   "execution_count": 4,
   "id": "4a4d1f40-f3c0-4fa6-b656-4d4d955a5966",
   "metadata": {},
   "outputs": [
    {
     "data": {
      "text/plain": [
       "100"
      ]
     },
     "execution_count": 4,
     "metadata": {},
     "output_type": "execute_result"
    }
   ],
   "source": [
    "# 3 combination of adding and subtracting\n",
    "a - (x + y) + b"
   ]
  },
  {
   "cell_type": "code",
   "execution_count": 5,
   "id": "8542a2ef-a92e-4fd1-8062-dbf08b528f68",
   "metadata": {},
   "outputs": [
    {
     "data": {
      "text/plain": [
       "0.1818382677861246"
      ]
     },
     "execution_count": 5,
     "metadata": {},
     "output_type": "execute_result"
    }
   ],
   "source": [
    "# Code 2 floating-point variables and divide them by each other\n",
    "d = 1.2345\n",
    "f = 6.7890\n",
    "d / f"
   ]
  },
  {
   "cell_type": "code",
   "execution_count": 6,
   "id": "58d4a729-0747-4658-a8cc-6193f421b167",
   "metadata": {},
   "outputs": [
    {
     "data": {
      "text/plain": [
       "'Hello, world'"
      ]
     },
     "execution_count": 6,
     "metadata": {},
     "output_type": "execute_result"
    }
   ],
   "source": [
    "# Construct a short word made of separate strings (you’ll need to concatenate some strings!)\n",
    "g = 'Hello, '\n",
    "h = 'world'\n",
    "g + h"
   ]
  },
  {
   "cell_type": "code",
   "execution_count": 7,
   "id": "f2189033-7785-4e76-8d19-3ea3bcdc41e8",
   "metadata": {},
   "outputs": [
    {
     "data": {
      "text/plain": [
       "'In this Exercise, you’ll be diving deeper into the inner workings of Jupyter.You’ll learn how to use it, as well as how to install basic Python libraries for use in your analyses.'"
      ]
     },
     "execution_count": 7,
     "metadata": {},
     "output_type": "execute_result"
    }
   ],
   "source": [
    "# Construct 2 short sentences made of separate strings.\n",
    "i = 'In this Exercise, you’ll be diving deeper into the inner workings of Jupyter.'\n",
    "j = 'You’ll learn how to use it, as well as how to install basic Python libraries for use in your analyses.'\n",
    "i + j"
   ]
  },
  {
   "cell_type": "code",
   "execution_count": null,
   "id": "2178a434-15e9-481d-bc58-5e499d6416e7",
   "metadata": {},
   "outputs": [],
   "source": []
  }
 ],
 "metadata": {
  "kernelspec": {
   "display_name": "Python 3 (ipykernel)",
   "language": "python",
   "name": "python3"
  },
  "language_info": {
   "codemirror_mode": {
    "name": "ipython",
    "version": 3
   },
   "file_extension": ".py",
   "mimetype": "text/x-python",
   "name": "python",
   "nbconvert_exporter": "python",
   "pygments_lexer": "ipython3",
   "version": "3.12.4"
  }
 },
 "nbformat": 4,
 "nbformat_minor": 5
}
