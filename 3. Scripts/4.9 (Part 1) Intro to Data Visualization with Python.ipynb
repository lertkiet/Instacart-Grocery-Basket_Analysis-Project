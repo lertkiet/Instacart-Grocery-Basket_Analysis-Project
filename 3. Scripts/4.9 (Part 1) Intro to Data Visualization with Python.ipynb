{
 "cells": [
  {
   "cell_type": "markdown",
   "id": "12d87d0b-03c8-4246-b308-1ecb46762fdd",
   "metadata": {},
   "source": [
    "## 4.9 Intro to Data Visualization with Python"
   ]
  },
  {
   "cell_type": "markdown",
   "id": "bff48341-44c9-4edd-80f5-8174d0747b2c",
   "metadata": {},
   "source": [
    "### Contents"
   ]
  },
  {
   "cell_type": "markdown",
   "id": "f0618907-f771-4e4b-bb46-5fc8ec8818f2",
   "metadata": {},
   "source": [
    "### 1. Cleaning part\n",
    "### - Importing libraries and files\n",
    "### - Dropping columns\n",
    "### - Changing data types\n",
    "### 2. Combining dataframes\n",
    "### 3. Exporting dataframe"
   ]
  },
  {
   "cell_type": "code",
   "execution_count": null,
   "id": "b7d1059e-9ac1-4ccf-9b48-b327c07614a8",
   "metadata": {},
   "outputs": [],
   "source": []
  },
  {
   "cell_type": "markdown",
   "id": "12c48f63-b32f-4a6e-9055-6bf78f6fd23c",
   "metadata": {},
   "source": [
    "#### Before doing this assignment, I need to clean the dataframe by decreasing the sizes of some columns, dropping unnecessary columns due to the memory issues when executing the codes. "
   ]
  },
  {
   "cell_type": "markdown",
   "id": "012b9cee-52e7-4072-8d5e-1d9c214db897",
   "metadata": {},
   "source": [
    "#### Importing libraries and files"
   ]
  },
  {
   "cell_type": "code",
   "execution_count": 1,
   "id": "f2bd32bf-ed2e-4c55-9090-37f2c73b8040",
   "metadata": {},
   "outputs": [],
   "source": [
    "# Import libraries\n",
    "import pandas as pd\n",
    "import numpy as np\n",
    "import os\n",
    "import matplotlib.pyplot as plt\n",
    "import seaborn as sns\n",
    "import scipy"
   ]
  },
  {
   "cell_type": "code",
   "execution_count": 2,
   "id": "33ebd2bd-799a-466d-908c-0d977124cb51",
   "metadata": {},
   "outputs": [],
   "source": [
    "# Create a path\n",
    "path = r'C:\\Users\\boss4048\\Documents\\10-2024 Instacart Basket Analysis'"
   ]
  },
  {
   "cell_type": "code",
   "execution_count": 3,
   "id": "b5d9dbba-63b7-41f0-8095-adf5d0f6d744",
   "metadata": {},
   "outputs": [],
   "source": [
    "orders_products = pd.read_pickle(os.path.join(path, '02 Data', 'Prepared Data', 'ord_prods_grouped_aggregated.pkl'))"
   ]
  },
  {
   "cell_type": "code",
   "execution_count": 4,
   "id": "2a958841-bda4-43c3-813f-d0ca798aeb24",
   "metadata": {},
   "outputs": [],
   "source": [
    "# Drop unnecessary columns\n",
    "orders_products.drop(columns = ['Unnamed: 0.1', \n",
    "                                'Unnamed: 0_x',\n",
    "                                'Unnamed: 0_y',\n",
    "                                'price_range_loc', \n",
    "                                'busiest_day', \n",
    "                                'busiest_period_of_day', \n",
    "                                'average_price', \n",
    "                                '_merge',\n",
    "                                'median_days',\n",
    "                                'max_order'\n",
    "                                ], inplace = True)"
   ]
  },
  {
   "cell_type": "code",
   "execution_count": 5,
   "id": "480f9a91-abe0-47d2-a44d-ec76c303b47d",
   "metadata": {},
   "outputs": [
    {
     "name": "stdout",
     "output_type": "stream",
     "text": [
      "<class 'pandas.core.frame.DataFrame'>\n",
      "RangeIndex: 32404859 entries, 0 to 32404858\n",
      "Data columns (total 17 columns):\n",
      " #   Column                       Dtype  \n",
      "---  ------                       -----  \n",
      " 0   order_id                     int64  \n",
      " 1   user_id                      int64  \n",
      " 2   order_number                 int64  \n",
      " 3   orders_day_of_week           int64  \n",
      " 4   order_hour_of_day            int64  \n",
      " 5   total_days_since_last_order  float64\n",
      " 6   product_id                   int64  \n",
      " 7   add_to_cart_order            int64  \n",
      " 8   reordered                    int64  \n",
      " 9   product_name                 object \n",
      " 10  aisle_id                     int64  \n",
      " 11  department_id                int64  \n",
      " 12  prices                       float64\n",
      " 13  Busiest days                 object \n",
      " 14  loyalty_flag                 object \n",
      " 15  spending_flag                object \n",
      " 16  frequency_flag               object \n",
      "dtypes: float64(2), int64(10), object(5)\n",
      "memory usage: 4.1+ GB\n"
     ]
    }
   ],
   "source": [
    "orders_products.info()"
   ]
  },
  {
   "cell_type": "code",
   "execution_count": 6,
   "id": "4c887eb8-4c4c-4959-8573-03eaf3428d02",
   "metadata": {},
   "outputs": [],
   "source": [
    "# Change data type from int64 to int32 to reduce the dataframe size and increase system performance.\n",
    "orders_products = orders_products.astype({ 'order_id'            : 'int32',\n",
    "                                           'user_id'             : 'int32',\n",
    "                                           'order_number'        : 'int32', \n",
    "                                           'orders_day_of_week'  : 'int32', \n",
    "                                           'order_hour_of_day'   : 'int32',\n",
    "                                           'product_id'          : 'int32',\n",
    "                                           'add_to_cart_order'   : 'int32', \n",
    "                                           'reordered'           : 'int32',\n",
    "                                           'aisle_id'            : 'int32',\n",
    "                                           'department_id'       : 'int32'\n",
    "                                         })"
   ]
  },
  {
   "cell_type": "code",
   "execution_count": 7,
   "id": "3f6f6a84-a24a-4508-9865-3ab371b03205",
   "metadata": {},
   "outputs": [
    {
     "name": "stdout",
     "output_type": "stream",
     "text": [
      "<class 'pandas.core.frame.DataFrame'>\n",
      "RangeIndex: 32404859 entries, 0 to 32404858\n",
      "Data columns (total 17 columns):\n",
      " #   Column                       Dtype  \n",
      "---  ------                       -----  \n",
      " 0   order_id                     int32  \n",
      " 1   user_id                      int32  \n",
      " 2   order_number                 int32  \n",
      " 3   orders_day_of_week           int32  \n",
      " 4   order_hour_of_day            int32  \n",
      " 5   total_days_since_last_order  float64\n",
      " 6   product_id                   int32  \n",
      " 7   add_to_cart_order            int32  \n",
      " 8   reordered                    int32  \n",
      " 9   product_name                 object \n",
      " 10  aisle_id                     int32  \n",
      " 11  department_id                int32  \n",
      " 12  prices                       float64\n",
      " 13  Busiest days                 object \n",
      " 14  loyalty_flag                 object \n",
      " 15  spending_flag                object \n",
      " 16  frequency_flag               object \n",
      "dtypes: float64(2), int32(10), object(5)\n",
      "memory usage: 2.9+ GB\n"
     ]
    }
   ],
   "source": [
    "orders_products.info()"
   ]
  },
  {
   "cell_type": "code",
   "execution_count": 8,
   "id": "2ddfe1cf-cae5-41ca-a3f8-4bdf142e2eea",
   "metadata": {},
   "outputs": [],
   "source": [
    "orders_products.to_pickle(os.path.join(path, '02 Data', 'Prepared Data', 'ord_prods_cleaned.pkl'))"
   ]
  },
  {
   "cell_type": "markdown",
   "id": "0e977c67-8630-4510-9f80-2404d6aefb9d",
   "metadata": {},
   "source": [
    "#### 3. Import your analysis libraries, as well as your new customer data set as a dataframe."
   ]
  },
  {
   "cell_type": "code",
   "execution_count": 9,
   "id": "d2564ac4-5e48-4cca-86f6-1886dee9ecd1",
   "metadata": {},
   "outputs": [],
   "source": [
    "# Import the new dataset as a dataframe\n",
    "new_customer = pd.read_csv(os.path.join(path, '02 Data', 'Original Data', 'customers.csv'))"
   ]
  },
  {
   "cell_type": "markdown",
   "id": "ba91efa6-0ef6-48b8-9eb3-8934da963cdc",
   "metadata": {},
   "source": [
    "#### 4. Wrangle the data so that it follows consistent logic; for example, rename columns with illogical names and drop columns that don’t add anything to your analysis."
   ]
  },
  {
   "cell_type": "code",
   "execution_count": 10,
   "id": "063ad26e-ced2-4161-be2a-03219c7e871f",
   "metadata": {},
   "outputs": [
    {
     "data": {
      "text/html": [
       "<div>\n",
       "<style scoped>\n",
       "    .dataframe tbody tr th:only-of-type {\n",
       "        vertical-align: middle;\n",
       "    }\n",
       "\n",
       "    .dataframe tbody tr th {\n",
       "        vertical-align: top;\n",
       "    }\n",
       "\n",
       "    .dataframe thead th {\n",
       "        text-align: right;\n",
       "    }\n",
       "</style>\n",
       "<table border=\"1\" class=\"dataframe\">\n",
       "  <thead>\n",
       "    <tr style=\"text-align: right;\">\n",
       "      <th></th>\n",
       "      <th>user_id</th>\n",
       "      <th>First Name</th>\n",
       "      <th>Surnam</th>\n",
       "      <th>Gender</th>\n",
       "      <th>STATE</th>\n",
       "      <th>Age</th>\n",
       "      <th>date_joined</th>\n",
       "      <th>n_dependants</th>\n",
       "      <th>fam_status</th>\n",
       "      <th>income</th>\n",
       "    </tr>\n",
       "  </thead>\n",
       "  <tbody>\n",
       "    <tr>\n",
       "      <th>0</th>\n",
       "      <td>26711</td>\n",
       "      <td>Deborah</td>\n",
       "      <td>Esquivel</td>\n",
       "      <td>Female</td>\n",
       "      <td>Missouri</td>\n",
       "      <td>48</td>\n",
       "      <td>1/1/2017</td>\n",
       "      <td>3</td>\n",
       "      <td>married</td>\n",
       "      <td>165665</td>\n",
       "    </tr>\n",
       "    <tr>\n",
       "      <th>1</th>\n",
       "      <td>33890</td>\n",
       "      <td>Patricia</td>\n",
       "      <td>Hart</td>\n",
       "      <td>Female</td>\n",
       "      <td>New Mexico</td>\n",
       "      <td>36</td>\n",
       "      <td>1/1/2017</td>\n",
       "      <td>0</td>\n",
       "      <td>single</td>\n",
       "      <td>59285</td>\n",
       "    </tr>\n",
       "    <tr>\n",
       "      <th>2</th>\n",
       "      <td>65803</td>\n",
       "      <td>Kenneth</td>\n",
       "      <td>Farley</td>\n",
       "      <td>Male</td>\n",
       "      <td>Idaho</td>\n",
       "      <td>35</td>\n",
       "      <td>1/1/2017</td>\n",
       "      <td>2</td>\n",
       "      <td>married</td>\n",
       "      <td>99568</td>\n",
       "    </tr>\n",
       "    <tr>\n",
       "      <th>3</th>\n",
       "      <td>125935</td>\n",
       "      <td>Michelle</td>\n",
       "      <td>Hicks</td>\n",
       "      <td>Female</td>\n",
       "      <td>Iowa</td>\n",
       "      <td>40</td>\n",
       "      <td>1/1/2017</td>\n",
       "      <td>0</td>\n",
       "      <td>single</td>\n",
       "      <td>42049</td>\n",
       "    </tr>\n",
       "    <tr>\n",
       "      <th>4</th>\n",
       "      <td>130797</td>\n",
       "      <td>Ann</td>\n",
       "      <td>Gilmore</td>\n",
       "      <td>Female</td>\n",
       "      <td>Maryland</td>\n",
       "      <td>26</td>\n",
       "      <td>1/1/2017</td>\n",
       "      <td>1</td>\n",
       "      <td>married</td>\n",
       "      <td>40374</td>\n",
       "    </tr>\n",
       "  </tbody>\n",
       "</table>\n",
       "</div>"
      ],
      "text/plain": [
       "   user_id First Name    Surnam  Gender       STATE  Age date_joined  \\\n",
       "0    26711    Deborah  Esquivel  Female    Missouri   48    1/1/2017   \n",
       "1    33890   Patricia      Hart  Female  New Mexico   36    1/1/2017   \n",
       "2    65803    Kenneth    Farley    Male       Idaho   35    1/1/2017   \n",
       "3   125935   Michelle     Hicks  Female        Iowa   40    1/1/2017   \n",
       "4   130797        Ann   Gilmore  Female    Maryland   26    1/1/2017   \n",
       "\n",
       "   n_dependants fam_status  income  \n",
       "0             3    married  165665  \n",
       "1             0     single   59285  \n",
       "2             2    married   99568  \n",
       "3             0     single   42049  \n",
       "4             1    married   40374  "
      ]
     },
     "execution_count": 10,
     "metadata": {},
     "output_type": "execute_result"
    }
   ],
   "source": [
    "# Run the code to see the dataframe\n",
    "new_customer.head()"
   ]
  },
  {
   "cell_type": "markdown",
   "id": "593ac583-5dc1-47ab-a976-aade0b458c7b",
   "metadata": {},
   "source": [
    "4.1 Rename the columns"
   ]
  },
  {
   "cell_type": "code",
   "execution_count": 11,
   "id": "8298eee9-8f31-4b62-954d-fe0d1b23866d",
   "metadata": {},
   "outputs": [],
   "source": [
    "new_customer.rename(columns = \n",
    "                    {'Surnam'       : 'Last Name',\n",
    "                     'STATE'        : 'State',\n",
    "                     'date_joined'  : 'Date Joined',\n",
    "                     'n_dependants' : 'Number of Dependents',\n",
    "                     'fam_status'   : 'Family Status',\n",
    "                     'income'       : 'Income'}\n",
    "                     , inplace = True)"
   ]
  },
  {
   "cell_type": "code",
   "execution_count": 12,
   "id": "9c23739f-e42a-4441-962a-53c352329da2",
   "metadata": {},
   "outputs": [
    {
     "name": "stdout",
     "output_type": "stream",
     "text": [
      "<class 'pandas.core.frame.DataFrame'>\n",
      "RangeIndex: 206209 entries, 0 to 206208\n",
      "Data columns (total 10 columns):\n",
      " #   Column                Non-Null Count   Dtype \n",
      "---  ------                --------------   ----- \n",
      " 0   user_id               206209 non-null  int64 \n",
      " 1   First Name            194950 non-null  object\n",
      " 2   Last Name             206209 non-null  object\n",
      " 3   Gender                206209 non-null  object\n",
      " 4   State                 206209 non-null  object\n",
      " 5   Age                   206209 non-null  int64 \n",
      " 6   Date Joined           206209 non-null  object\n",
      " 7   Number of Dependents  206209 non-null  int64 \n",
      " 8   Family Status         206209 non-null  object\n",
      " 9   Income                206209 non-null  int64 \n",
      "dtypes: int64(4), object(6)\n",
      "memory usage: 15.7+ MB\n"
     ]
    }
   ],
   "source": [
    "# Run the code to see the column names after renaming\n",
    "# I decided to leave the 'user_id' column name as it is for future merging purposes. It has to be the same name.\n",
    "new_customer.info()"
   ]
  },
  {
   "cell_type": "markdown",
   "id": "54b47985-0a23-4ffa-874e-382469c979ca",
   "metadata": {},
   "source": [
    "4.2 Changing a variable’s data type"
   ]
  },
  {
   "cell_type": "code",
   "execution_count": 13,
   "id": "02693c7d-5104-4392-bde9-9e94531f63ae",
   "metadata": {},
   "outputs": [],
   "source": [
    "# The user_id column has a data type of int64; I am changing it to a string data type.\n",
    "new_customer['user_id'] = new_customer['user_id'].astype('str')"
   ]
  },
  {
   "cell_type": "code",
   "execution_count": 14,
   "id": "440d411a-2695-45d6-b202-758935149f8b",
   "metadata": {},
   "outputs": [
    {
     "data": {
      "text/plain": [
       "dtype('O')"
      ]
     },
     "execution_count": 14,
     "metadata": {},
     "output_type": "execute_result"
    }
   ],
   "source": [
    "# Test the result after changing the data type.\n",
    "new_customer['user_id'].dtype"
   ]
  },
  {
   "cell_type": "markdown",
   "id": "8f1fcb9b-70eb-462a-b852-e82e7c3fda69",
   "metadata": {},
   "source": [
    "Since we have changed the data type of another dataframe (please check 4.9 (Part 0) Cleaning large dataframe notebook),I need to change the data type from int64 to int32 of this datframe as well to make them match when merging."
   ]
  },
  {
   "cell_type": "code",
   "execution_count": 15,
   "id": "2d0490c9-64a0-422c-8913-3c1b8ee66627",
   "metadata": {},
   "outputs": [
    {
     "data": {
      "text/html": [
       "<div>\n",
       "<style scoped>\n",
       "    .dataframe tbody tr th:only-of-type {\n",
       "        vertical-align: middle;\n",
       "    }\n",
       "\n",
       "    .dataframe tbody tr th {\n",
       "        vertical-align: top;\n",
       "    }\n",
       "\n",
       "    .dataframe thead th {\n",
       "        text-align: right;\n",
       "    }\n",
       "</style>\n",
       "<table border=\"1\" class=\"dataframe\">\n",
       "  <thead>\n",
       "    <tr style=\"text-align: right;\">\n",
       "      <th></th>\n",
       "      <th>user_id</th>\n",
       "      <th>First Name</th>\n",
       "      <th>Last Name</th>\n",
       "      <th>Gender</th>\n",
       "      <th>State</th>\n",
       "      <th>Age</th>\n",
       "      <th>Date Joined</th>\n",
       "      <th>Number of Dependents</th>\n",
       "      <th>Family Status</th>\n",
       "      <th>Income</th>\n",
       "    </tr>\n",
       "  </thead>\n",
       "  <tbody>\n",
       "    <tr>\n",
       "      <th>0</th>\n",
       "      <td>26711</td>\n",
       "      <td>Deborah</td>\n",
       "      <td>Esquivel</td>\n",
       "      <td>Female</td>\n",
       "      <td>Missouri</td>\n",
       "      <td>48</td>\n",
       "      <td>1/1/2017</td>\n",
       "      <td>3</td>\n",
       "      <td>married</td>\n",
       "      <td>165665</td>\n",
       "    </tr>\n",
       "    <tr>\n",
       "      <th>1</th>\n",
       "      <td>33890</td>\n",
       "      <td>Patricia</td>\n",
       "      <td>Hart</td>\n",
       "      <td>Female</td>\n",
       "      <td>New Mexico</td>\n",
       "      <td>36</td>\n",
       "      <td>1/1/2017</td>\n",
       "      <td>0</td>\n",
       "      <td>single</td>\n",
       "      <td>59285</td>\n",
       "    </tr>\n",
       "    <tr>\n",
       "      <th>2</th>\n",
       "      <td>65803</td>\n",
       "      <td>Kenneth</td>\n",
       "      <td>Farley</td>\n",
       "      <td>Male</td>\n",
       "      <td>Idaho</td>\n",
       "      <td>35</td>\n",
       "      <td>1/1/2017</td>\n",
       "      <td>2</td>\n",
       "      <td>married</td>\n",
       "      <td>99568</td>\n",
       "    </tr>\n",
       "    <tr>\n",
       "      <th>3</th>\n",
       "      <td>125935</td>\n",
       "      <td>Michelle</td>\n",
       "      <td>Hicks</td>\n",
       "      <td>Female</td>\n",
       "      <td>Iowa</td>\n",
       "      <td>40</td>\n",
       "      <td>1/1/2017</td>\n",
       "      <td>0</td>\n",
       "      <td>single</td>\n",
       "      <td>42049</td>\n",
       "    </tr>\n",
       "    <tr>\n",
       "      <th>4</th>\n",
       "      <td>130797</td>\n",
       "      <td>Ann</td>\n",
       "      <td>Gilmore</td>\n",
       "      <td>Female</td>\n",
       "      <td>Maryland</td>\n",
       "      <td>26</td>\n",
       "      <td>1/1/2017</td>\n",
       "      <td>1</td>\n",
       "      <td>married</td>\n",
       "      <td>40374</td>\n",
       "    </tr>\n",
       "    <tr>\n",
       "      <th>...</th>\n",
       "      <td>...</td>\n",
       "      <td>...</td>\n",
       "      <td>...</td>\n",
       "      <td>...</td>\n",
       "      <td>...</td>\n",
       "      <td>...</td>\n",
       "      <td>...</td>\n",
       "      <td>...</td>\n",
       "      <td>...</td>\n",
       "      <td>...</td>\n",
       "    </tr>\n",
       "    <tr>\n",
       "      <th>206204</th>\n",
       "      <td>168073</td>\n",
       "      <td>Lisa</td>\n",
       "      <td>Case</td>\n",
       "      <td>Female</td>\n",
       "      <td>North Carolina</td>\n",
       "      <td>44</td>\n",
       "      <td>4/1/2020</td>\n",
       "      <td>1</td>\n",
       "      <td>married</td>\n",
       "      <td>148828</td>\n",
       "    </tr>\n",
       "    <tr>\n",
       "      <th>206205</th>\n",
       "      <td>49635</td>\n",
       "      <td>Jeremy</td>\n",
       "      <td>Robbins</td>\n",
       "      <td>Male</td>\n",
       "      <td>Hawaii</td>\n",
       "      <td>62</td>\n",
       "      <td>4/1/2020</td>\n",
       "      <td>3</td>\n",
       "      <td>married</td>\n",
       "      <td>168639</td>\n",
       "    </tr>\n",
       "    <tr>\n",
       "      <th>206206</th>\n",
       "      <td>135902</td>\n",
       "      <td>Doris</td>\n",
       "      <td>Richmond</td>\n",
       "      <td>Female</td>\n",
       "      <td>Missouri</td>\n",
       "      <td>66</td>\n",
       "      <td>4/1/2020</td>\n",
       "      <td>2</td>\n",
       "      <td>married</td>\n",
       "      <td>53374</td>\n",
       "    </tr>\n",
       "    <tr>\n",
       "      <th>206207</th>\n",
       "      <td>81095</td>\n",
       "      <td>Rose</td>\n",
       "      <td>Rollins</td>\n",
       "      <td>Female</td>\n",
       "      <td>California</td>\n",
       "      <td>27</td>\n",
       "      <td>4/1/2020</td>\n",
       "      <td>1</td>\n",
       "      <td>married</td>\n",
       "      <td>99799</td>\n",
       "    </tr>\n",
       "    <tr>\n",
       "      <th>206208</th>\n",
       "      <td>80148</td>\n",
       "      <td>Cynthia</td>\n",
       "      <td>Noble</td>\n",
       "      <td>Female</td>\n",
       "      <td>New York</td>\n",
       "      <td>55</td>\n",
       "      <td>4/1/2020</td>\n",
       "      <td>1</td>\n",
       "      <td>married</td>\n",
       "      <td>57095</td>\n",
       "    </tr>\n",
       "  </tbody>\n",
       "</table>\n",
       "<p>206209 rows × 10 columns</p>\n",
       "</div>"
      ],
      "text/plain": [
       "       user_id First Name Last Name  Gender           State  Age Date Joined  \\\n",
       "0        26711    Deborah  Esquivel  Female        Missouri   48    1/1/2017   \n",
       "1        33890   Patricia      Hart  Female      New Mexico   36    1/1/2017   \n",
       "2        65803    Kenneth    Farley    Male           Idaho   35    1/1/2017   \n",
       "3       125935   Michelle     Hicks  Female            Iowa   40    1/1/2017   \n",
       "4       130797        Ann   Gilmore  Female        Maryland   26    1/1/2017   \n",
       "...        ...        ...       ...     ...             ...  ...         ...   \n",
       "206204  168073       Lisa      Case  Female  North Carolina   44    4/1/2020   \n",
       "206205   49635     Jeremy   Robbins    Male          Hawaii   62    4/1/2020   \n",
       "206206  135902      Doris  Richmond  Female        Missouri   66    4/1/2020   \n",
       "206207   81095       Rose   Rollins  Female      California   27    4/1/2020   \n",
       "206208   80148    Cynthia     Noble  Female        New York   55    4/1/2020   \n",
       "\n",
       "        Number of Dependents Family Status  Income  \n",
       "0                          3       married  165665  \n",
       "1                          0        single   59285  \n",
       "2                          2       married   99568  \n",
       "3                          0        single   42049  \n",
       "4                          1       married   40374  \n",
       "...                      ...           ...     ...  \n",
       "206204                     1       married  148828  \n",
       "206205                     3       married  168639  \n",
       "206206                     2       married   53374  \n",
       "206207                     1       married   99799  \n",
       "206208                     1       married   57095  \n",
       "\n",
       "[206209 rows x 10 columns]"
      ]
     },
     "execution_count": 15,
     "metadata": {},
     "output_type": "execute_result"
    }
   ],
   "source": [
    "new_customer.astype({ 'Age' : 'int32',\n",
    "                      'Number of Dependents' : 'int32',\n",
    "                      'Income' : 'int32'    \n",
    "                    })"
   ]
  },
  {
   "cell_type": "markdown",
   "id": "d55b5460-618a-4d2f-8336-2eb6945b319c",
   "metadata": {},
   "source": [
    "#### 5. Complete the fundamental data quality and consistency checks you’ve learned throughout this Achievement; for example, check for and address missing values and duplicates, and convert any mixed-type data."
   ]
  },
  {
   "cell_type": "markdown",
   "id": "f4609640-00b4-4cbe-8754-eba30af52d66",
   "metadata": {},
   "source": [
    "5.1 Missing values"
   ]
  },
  {
   "cell_type": "code",
   "execution_count": 16,
   "id": "5e5643ad-83f5-4a91-80a8-6f17c7a31512",
   "metadata": {},
   "outputs": [
    {
     "data": {
      "text/plain": [
       "user_id                     0\n",
       "First Name              11259\n",
       "Last Name                   0\n",
       "Gender                      0\n",
       "State                       0\n",
       "Age                         0\n",
       "Date Joined                 0\n",
       "Number of Dependents        0\n",
       "Family Status               0\n",
       "Income                      0\n",
       "dtype: int64"
      ]
     },
     "execution_count": 16,
     "metadata": {},
     "output_type": "execute_result"
    }
   ],
   "source": [
    "# Use isnull.() to find how many rows in each column are empty.\n",
    "new_customer.isnull().sum()"
   ]
  },
  {
   "cell_type": "markdown",
   "id": "7b1c721a-5bd5-4657-839e-803c20b13996",
   "metadata": {},
   "source": [
    "We can see that the 'First Name' column has NaNs. I will not replace them because first names can be unique and cannot be substituted with any other values. I also will not drop the rows with missing values; I have decided to leave them as they are."
   ]
  },
  {
   "cell_type": "markdown",
   "id": "a5234cdd-422a-46e6-9c2a-dfd98309f10d",
   "metadata": {},
   "source": [
    "5.2 Convert any mixed-type data"
   ]
  },
  {
   "cell_type": "code",
   "execution_count": 17,
   "id": "445b916f-f1fa-4c01-9cfb-e8c158be73f5",
   "metadata": {},
   "outputs": [
    {
     "name": "stdout",
     "output_type": "stream",
     "text": [
      "First Name\n"
     ]
    }
   ],
   "source": [
    "# Use for-loop to find out if there is any mixed data.\n",
    "for col in new_customer.columns.tolist():\n",
    "  weird = (new_customer[[col]].map(type) != new_customer[[col]].iloc[0].apply(type)).any(axis = 1)\n",
    "  if len (new_customer[weird]) > 0:\n",
    "    print (col)"
   ]
  },
  {
   "cell_type": "markdown",
   "id": "dfcc7ecc-fb0e-4c89-86be-3d8fcbe3b4a9",
   "metadata": {},
   "source": [
    "After researching, I found that if I convert the entire column to one data type (string), all values, including those with NaN values, would be converted to strings. As a result, we would no longer be able to detect the NaN values after the conversion. Therefore, I am leaving it as it is in case we might do something from rows with NaN values in the future."
   ]
  },
  {
   "cell_type": "markdown",
   "id": "aba49943-89bb-4c57-9f0e-ed31c2a337d3",
   "metadata": {},
   "source": [
    "5.3 Duplicates"
   ]
  },
  {
   "cell_type": "code",
   "execution_count": 18,
   "id": "c29e63b7-a208-4708-a9f3-44ae8ec2877c",
   "metadata": {},
   "outputs": [
    {
     "data": {
      "text/html": [
       "<div>\n",
       "<style scoped>\n",
       "    .dataframe tbody tr th:only-of-type {\n",
       "        vertical-align: middle;\n",
       "    }\n",
       "\n",
       "    .dataframe tbody tr th {\n",
       "        vertical-align: top;\n",
       "    }\n",
       "\n",
       "    .dataframe thead th {\n",
       "        text-align: right;\n",
       "    }\n",
       "</style>\n",
       "<table border=\"1\" class=\"dataframe\">\n",
       "  <thead>\n",
       "    <tr style=\"text-align: right;\">\n",
       "      <th></th>\n",
       "      <th>user_id</th>\n",
       "      <th>First Name</th>\n",
       "      <th>Last Name</th>\n",
       "      <th>Gender</th>\n",
       "      <th>State</th>\n",
       "      <th>Age</th>\n",
       "      <th>Date Joined</th>\n",
       "      <th>Number of Dependents</th>\n",
       "      <th>Family Status</th>\n",
       "      <th>Income</th>\n",
       "    </tr>\n",
       "  </thead>\n",
       "  <tbody>\n",
       "  </tbody>\n",
       "</table>\n",
       "</div>"
      ],
      "text/plain": [
       "Empty DataFrame\n",
       "Columns: [user_id, First Name, Last Name, Gender, State, Age, Date Joined, Number of Dependents, Family Status, Income]\n",
       "Index: []"
      ]
     },
     "execution_count": 18,
     "metadata": {},
     "output_type": "execute_result"
    }
   ],
   "source": [
    "new_customer[new_customer.duplicated()]"
   ]
  },
  {
   "cell_type": "markdown",
   "id": "13da4f4f-af75-4566-baae-d194eb4365b4",
   "metadata": {},
   "source": [
    "The result shows that there are no duplicates in this dataframe."
   ]
  },
  {
   "cell_type": "markdown",
   "id": "bc9dc4dd-fee5-426d-b103-ad89a2d67ff0",
   "metadata": {},
   "source": [
    "#### 6. Combine your customer data with the rest of your prepared Instacart data. (Hint: Make sure the key columns are the same data type!)"
   ]
  },
  {
   "cell_type": "markdown",
   "id": "815e2ae3-09a0-49b2-bc1b-5670fa59b124",
   "metadata": {},
   "source": [
    "Importing the dataframe from the prepared Instacart data."
   ]
  },
  {
   "cell_type": "code",
   "execution_count": 19,
   "id": "1ac5a706-86d6-4f3a-9a0a-eb2e1042bec0",
   "metadata": {},
   "outputs": [],
   "source": [
    "orders_products = pd.read_pickle(os.path.join(path, '02 Data', 'Prepared Data', 'ord_prods_cleaned.pkl'))"
   ]
  },
  {
   "cell_type": "code",
   "execution_count": 20,
   "id": "d0874c35-8ff3-41a2-8529-d691a877ae68",
   "metadata": {},
   "outputs": [
    {
     "data": {
      "text/html": [
       "<div>\n",
       "<style scoped>\n",
       "    .dataframe tbody tr th:only-of-type {\n",
       "        vertical-align: middle;\n",
       "    }\n",
       "\n",
       "    .dataframe tbody tr th {\n",
       "        vertical-align: top;\n",
       "    }\n",
       "\n",
       "    .dataframe thead th {\n",
       "        text-align: right;\n",
       "    }\n",
       "</style>\n",
       "<table border=\"1\" class=\"dataframe\">\n",
       "  <thead>\n",
       "    <tr style=\"text-align: right;\">\n",
       "      <th></th>\n",
       "      <th>order_id</th>\n",
       "      <th>user_id</th>\n",
       "      <th>order_number</th>\n",
       "      <th>orders_day_of_week</th>\n",
       "      <th>order_hour_of_day</th>\n",
       "      <th>total_days_since_last_order</th>\n",
       "      <th>product_id</th>\n",
       "      <th>add_to_cart_order</th>\n",
       "      <th>reordered</th>\n",
       "      <th>product_name</th>\n",
       "      <th>aisle_id</th>\n",
       "      <th>department_id</th>\n",
       "      <th>prices</th>\n",
       "      <th>Busiest days</th>\n",
       "      <th>loyalty_flag</th>\n",
       "      <th>spending_flag</th>\n",
       "      <th>frequency_flag</th>\n",
       "    </tr>\n",
       "  </thead>\n",
       "  <tbody>\n",
       "    <tr>\n",
       "      <th>0</th>\n",
       "      <td>2539329</td>\n",
       "      <td>1</td>\n",
       "      <td>1</td>\n",
       "      <td>2</td>\n",
       "      <td>8</td>\n",
       "      <td>NaN</td>\n",
       "      <td>196</td>\n",
       "      <td>1</td>\n",
       "      <td>0</td>\n",
       "      <td>Soda</td>\n",
       "      <td>77</td>\n",
       "      <td>7</td>\n",
       "      <td>9.0</td>\n",
       "      <td>Regularly busy</td>\n",
       "      <td>New customer</td>\n",
       "      <td>Low spender</td>\n",
       "      <td>Non-frequent customer</td>\n",
       "    </tr>\n",
       "    <tr>\n",
       "      <th>1</th>\n",
       "      <td>2539329</td>\n",
       "      <td>1</td>\n",
       "      <td>1</td>\n",
       "      <td>2</td>\n",
       "      <td>8</td>\n",
       "      <td>NaN</td>\n",
       "      <td>14084</td>\n",
       "      <td>2</td>\n",
       "      <td>0</td>\n",
       "      <td>Organic Unsweetened Vanilla Almond Milk</td>\n",
       "      <td>91</td>\n",
       "      <td>16</td>\n",
       "      <td>12.5</td>\n",
       "      <td>Regularly busy</td>\n",
       "      <td>New customer</td>\n",
       "      <td>Low spender</td>\n",
       "      <td>Non-frequent customer</td>\n",
       "    </tr>\n",
       "    <tr>\n",
       "      <th>2</th>\n",
       "      <td>2539329</td>\n",
       "      <td>1</td>\n",
       "      <td>1</td>\n",
       "      <td>2</td>\n",
       "      <td>8</td>\n",
       "      <td>NaN</td>\n",
       "      <td>12427</td>\n",
       "      <td>3</td>\n",
       "      <td>0</td>\n",
       "      <td>Original Beef Jerky</td>\n",
       "      <td>23</td>\n",
       "      <td>19</td>\n",
       "      <td>4.4</td>\n",
       "      <td>Regularly busy</td>\n",
       "      <td>New customer</td>\n",
       "      <td>Low spender</td>\n",
       "      <td>Non-frequent customer</td>\n",
       "    </tr>\n",
       "    <tr>\n",
       "      <th>3</th>\n",
       "      <td>2539329</td>\n",
       "      <td>1</td>\n",
       "      <td>1</td>\n",
       "      <td>2</td>\n",
       "      <td>8</td>\n",
       "      <td>NaN</td>\n",
       "      <td>26088</td>\n",
       "      <td>4</td>\n",
       "      <td>0</td>\n",
       "      <td>Aged White Cheddar Popcorn</td>\n",
       "      <td>23</td>\n",
       "      <td>19</td>\n",
       "      <td>4.7</td>\n",
       "      <td>Regularly busy</td>\n",
       "      <td>New customer</td>\n",
       "      <td>Low spender</td>\n",
       "      <td>Non-frequent customer</td>\n",
       "    </tr>\n",
       "    <tr>\n",
       "      <th>4</th>\n",
       "      <td>2539329</td>\n",
       "      <td>1</td>\n",
       "      <td>1</td>\n",
       "      <td>2</td>\n",
       "      <td>8</td>\n",
       "      <td>NaN</td>\n",
       "      <td>26405</td>\n",
       "      <td>5</td>\n",
       "      <td>0</td>\n",
       "      <td>XL Pick-A-Size Paper Towel Rolls</td>\n",
       "      <td>54</td>\n",
       "      <td>17</td>\n",
       "      <td>1.0</td>\n",
       "      <td>Regularly busy</td>\n",
       "      <td>New customer</td>\n",
       "      <td>Low spender</td>\n",
       "      <td>Non-frequent customer</td>\n",
       "    </tr>\n",
       "  </tbody>\n",
       "</table>\n",
       "</div>"
      ],
      "text/plain": [
       "   order_id  user_id  order_number  orders_day_of_week  order_hour_of_day  \\\n",
       "0   2539329        1             1                   2                  8   \n",
       "1   2539329        1             1                   2                  8   \n",
       "2   2539329        1             1                   2                  8   \n",
       "3   2539329        1             1                   2                  8   \n",
       "4   2539329        1             1                   2                  8   \n",
       "\n",
       "   total_days_since_last_order  product_id  add_to_cart_order  reordered  \\\n",
       "0                          NaN         196                  1          0   \n",
       "1                          NaN       14084                  2          0   \n",
       "2                          NaN       12427                  3          0   \n",
       "3                          NaN       26088                  4          0   \n",
       "4                          NaN       26405                  5          0   \n",
       "\n",
       "                              product_name  aisle_id  department_id  prices  \\\n",
       "0                                     Soda        77              7     9.0   \n",
       "1  Organic Unsweetened Vanilla Almond Milk        91             16    12.5   \n",
       "2                      Original Beef Jerky        23             19     4.4   \n",
       "3               Aged White Cheddar Popcorn        23             19     4.7   \n",
       "4         XL Pick-A-Size Paper Towel Rolls        54             17     1.0   \n",
       "\n",
       "     Busiest days  loyalty_flag spending_flag         frequency_flag  \n",
       "0  Regularly busy  New customer   Low spender  Non-frequent customer  \n",
       "1  Regularly busy  New customer   Low spender  Non-frequent customer  \n",
       "2  Regularly busy  New customer   Low spender  Non-frequent customer  \n",
       "3  Regularly busy  New customer   Low spender  Non-frequent customer  \n",
       "4  Regularly busy  New customer   Low spender  Non-frequent customer  "
      ]
     },
     "execution_count": 20,
     "metadata": {},
     "output_type": "execute_result"
    }
   ],
   "source": [
    "orders_products.head()"
   ]
  },
  {
   "cell_type": "markdown",
   "id": "9c54706e-54aa-4b05-9b1c-72169fe6abae",
   "metadata": {},
   "source": [
    "Combining 2 dataframes"
   ]
  },
  {
   "cell_type": "code",
   "execution_count": 21,
   "id": "f33519b7-2839-4e23-bd20-a627af3fa98d",
   "metadata": {},
   "outputs": [
    {
     "data": {
      "text/plain": [
       "dtype('int32')"
      ]
     },
     "execution_count": 21,
     "metadata": {},
     "output_type": "execute_result"
    }
   ],
   "source": [
    "# Recheck if the key columns (user_id) on both dataframes are the same data type.\n",
    "orders_products['user_id'].dtype"
   ]
  },
  {
   "cell_type": "markdown",
   "id": "c43c1a92-98bc-471e-a382-adc657944cc6",
   "metadata": {},
   "source": [
    "The data type of the key column in the orders_products dataframe is int64, whereas the key column in the new_customer dataframe is a string. We need to change it to be the same."
   ]
  },
  {
   "cell_type": "code",
   "execution_count": 22,
   "id": "2bef3e58-bd5c-4338-bbd0-a7f6e5d578d5",
   "metadata": {},
   "outputs": [],
   "source": [
    "# Change the user_id column datatype of orders_products dataframe.\n",
    "orders_products['user_id'] = orders_products['user_id'].astype('str')"
   ]
  },
  {
   "cell_type": "code",
   "execution_count": 23,
   "id": "4af7dd7e-72ca-40c9-aad2-2a8fec3d6abc",
   "metadata": {},
   "outputs": [],
   "source": [
    "# Merge 2 dataframes with user_id as the key column.\n",
    "df_merged = orders_products.merge(new_customer, on = 'user_id', indicator = True)"
   ]
  },
  {
   "cell_type": "code",
   "execution_count": 24,
   "id": "dfdecd12-e1ef-4aff-aba0-114340d53df9",
   "metadata": {},
   "outputs": [
    {
     "data": {
      "text/plain": [
       "_merge\n",
       "both          32404859\n",
       "left_only            0\n",
       "right_only           0\n",
       "Name: count, dtype: int64"
      ]
     },
     "execution_count": 24,
     "metadata": {},
     "output_type": "execute_result"
    }
   ],
   "source": [
    "# Check if both dataframes have a full match after inner join\n",
    "df_merged['_merge'].value_counts()"
   ]
  },
  {
   "cell_type": "markdown",
   "id": "cc06b3da-fb0e-4af1-a20f-9dd2c8edea86",
   "metadata": {},
   "source": [
    "The merge flags show us there is a full match between the two input dataframes from the code with inner join."
   ]
  },
  {
   "cell_type": "code",
   "execution_count": 25,
   "id": "30892507-8db2-4552-a097-54cccca353b8",
   "metadata": {},
   "outputs": [
    {
     "data": {
      "text/plain": [
       "_merge\n",
       "both          32404859\n",
       "left_only            0\n",
       "right_only           0\n",
       "Name: count, dtype: int64"
      ]
     },
     "execution_count": 25,
     "metadata": {},
     "output_type": "execute_result"
    }
   ],
   "source": [
    "# Compare the counts if 2 dataframes have a full match as well without overwriting it from outer join.\n",
    "(pd.merge(orders_products,new_customer, on = 'user_id', how = 'outer', indicator = True))['_merge'].value_counts()"
   ]
  },
  {
   "cell_type": "markdown",
   "id": "16d5569b-5e47-436a-95c0-6848c4bbb024",
   "metadata": {},
   "source": [
    "The result shows that both have a full match."
   ]
  },
  {
   "cell_type": "markdown",
   "id": "9d3ea034-0d86-4648-929d-83f21f315d7d",
   "metadata": {},
   "source": [
    "#### 8. Export this new dataframe as a pickle file so you can continue to use it in the second part of this task."
   ]
  },
  {
   "cell_type": "code",
   "execution_count": 26,
   "id": "a871365c-7092-48ec-bcb1-95c16049b18c",
   "metadata": {},
   "outputs": [],
   "source": [
    "df_merged.to_pickle(os.path.join(path, '02 Data', 'Prepared Data', '4.9 Cleaned dataframe.pkl'))"
   ]
  }
 ],
 "metadata": {
  "kernelspec": {
   "display_name": "Python 3 (ipykernel)",
   "language": "python",
   "name": "python3"
  },
  "language_info": {
   "codemirror_mode": {
    "name": "ipython",
    "version": 3
   },
   "file_extension": ".py",
   "mimetype": "text/x-python",
   "name": "python",
   "nbconvert_exporter": "python",
   "pygments_lexer": "ipython3",
   "version": "3.12.4"
  }
 },
 "nbformat": 4,
 "nbformat_minor": 5
}
